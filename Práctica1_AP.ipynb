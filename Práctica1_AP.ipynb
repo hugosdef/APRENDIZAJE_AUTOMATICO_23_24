{
  "cells": [
    {
      "cell_type": "markdown",
      "metadata": {
        "id": "view-in-github",
        "colab_type": "text"
      },
      "source": [
        "<a href=\"https://colab.research.google.com/github/hugosdef/APRENDIZAJE_AUTOMATICO_23_24/blob/main/Pr%C3%A1ctica1_AP.ipynb\" target=\"_parent\"><img src=\"https://colab.research.google.com/assets/colab-badge.svg\" alt=\"Open In Colab\"/></a>"
      ]
    },
    {
      "cell_type": "markdown",
      "metadata": {
        "id": "Et9bR8aV9BdB"
      },
      "source": [
        "# **Práctica 1**\n",
        "### Grupo 5\n",
        "**Autores:**\n",
        "- Hugo Santos de Felipe\n",
        "- David Marín Sala\n",
        "- Álvaro García Hernández\n",
        "\n"
      ]
    },
    {
      "cell_type": "markdown",
      "metadata": {
        "id": "YPiNuAB6_eY4"
      },
      "source": [
        "# **Introducción**\n",
        "\n",
        "Esta memoria aborda el procesamiento y clasificación de imágenes mediante técnicas de aprendizaje profundo, específicamente utilizando redes neuronales artificiales (RNA). Centramos nuestro estudio en el conjunto de datos Fashion-MNIST, una colección de 70,000 imágenes en escala de grises que representan diez categorías distintas de prendas de vestir.\n",
        "\n",
        " Con este proyecto se pretende desarrollar y evaluar modelos de RNA, ajustando variables como la cantidad de neuronas, funciones de activación y optimizadores, para poder identificar y clasificar dichas imágenes. A lo largo del documento, se presentan análisis detallados del desempeño de cada modelo, visualizaciones de sus predicciones y un enfoque riguroso para entender sus comportamientos y capacidades. Concluimos con una propuesta de mejora para uno de los modelos, incorporando un optimizador y función de pérdida específicos, y discutiremos las razones detrás de estas elecciones y su impacto en el rendimiento.\n",
        "\n",
        "# **Objetivos**\n",
        "\n",
        "Esta investigación tiene como objetivo principal proporcionar una explicación a nivel teórico-práctico del proceso de creación y evaluación de modelos de aprendizaje profundo. Para el desarrollo del mismo , nos hemos apoyado del lenguaje de programación Python.\n",
        "\n",
        "A nivel de implementación nos centramos en destacar las consideraciones clave en la selección de arquitecturas de redes neuronales artificiales (RNA) y la optimización de hiperparámetros, abordando específicamente el desafío de clasificar imágenes en el conjunto de datos Fashion-MNIST.\n",
        "\n",
        "Nuestro propósito es explorar las complejidades involucradas en la construcción de modelos de aprendizaje profundo para la clasificación de imágenes, comprendiendo cómo las elecciones de arquitectura, funciones de activación y optimizadores afectan el rendimiento de estos modelos.\n",
        "\n",
        "\n"
      ]
    },
    {
      "cell_type": "markdown",
      "metadata": {
        "id": "fOxho64JtsMj"
      },
      "source": [
        "###**Código**\n",
        "\n",
        "Para empezar, importaremos todas las librerías que vamos a utilizar, que son los primeros pasos para poder trabajar con nuestro conjunto de datos.\n",
        "\n"
      ]
    },
    {
      "cell_type": "code",
      "execution_count": null,
      "metadata": {
        "colab": {
          "base_uri": "https://localhost:8080/"
        },
        "id": "VcAdBoBH_2gD",
        "outputId": "53d5b5e6-b0f2-4e62-b265-c32372aeb46a"
      },
      "outputs": [
        {
          "output_type": "stream",
          "name": "stdout",
          "text": [
            "2.13.0\n"
          ]
        }
      ],
      "source": [
        "# Importamos todas las librerías que vamos a requerir.\n",
        "import tensorflow as tf\n",
        "from tensorflow.keras.datasets import fashion_mnist\n",
        "from tensorflow.keras.models import Sequential\n",
        "from tensorflow.keras.layers import Flatten, Dense\n",
        "from tensorflow.keras.utils import to_categorical\n",
        "import numpy as np\n",
        "import matplotlib.pyplot as plt\n",
        "print(tf.__version__) # Para asegurarnos de estar usando una versión 2.0.0 (o superior) de TensorFlow."
      ]
    },
    {
      "cell_type": "markdown",
      "metadata": {
        "id": "RU6hMv9ZwyIc"
      },
      "source": [
        "Este fragmento de código tiene como objetivo cargar los datos del conjunto Fashion-MNIST y realizar la normalización de las imágenes, lo que escala los valores de píxeles al rango [0, 1].\n",
        "Además, se verifica si los datos tienen la forma esperada y se imprimen las dimensiones de los conjuntos de entrenamiento y prueba.\n"
      ]
    },
    {
      "cell_type": "code",
      "execution_count": null,
      "metadata": {
        "colab": {
          "base_uri": "https://localhost:8080/"
        },
        "id": "W6BeP9XbE8vu",
        "outputId": "dffdd14f-9009-417b-a9b1-6da557be778c"
      },
      "outputs": [
        {
          "output_type": "stream",
          "name": "stdout",
          "text": [
            "\n",
            "\n",
            "Shape de train_images: (60000, 28, 28)\n",
            "Shape de train_labels: (60000,)\n",
            "Shape de test_images: (10000, 28, 28)\n",
            "Shape de test_labels: (10000,)\n"
          ]
        }
      ],
      "source": [
        "# Cargamos los datos de Fashion-MNIST y normalizamos las imágenes.\n",
        "(train_images, train_labels), (test_images, test_labels) = fashion_mnist.load_data()\n",
        "train_images = train_images / 255\n",
        "test_images = test_images / 255\n",
        "\n",
        "# Verificamos si los datos tienen la forma esperada:\n",
        "print(\"\\n\\nShape de train_images:\", train_images.shape)\n",
        "# Debería tener la forma (60000, 28, 28) , conjunto de entrenamiento de 60,000 imágenes de 28x28 píxeles cada una.\n",
        "\n",
        "print(\"Shape de train_labels:\", train_labels.shape)\n",
        "# Debería tener la forma (60000,) , las etiquetas de clase para el conjunto de entrenamiento.\n",
        "\n",
        "print(\"Shape de test_images:\", test_images.shape)\n",
        "# Debería tener la forma (10000, 28, 28),  conjunto de prueba estándar de 10,000 imágenes de 28x28 píxeles cada una.\n",
        "\n",
        "print(\"Shape de test_labels:\", test_labels.shape)\n",
        "# Debería tener la forma (10000,) que contiene las etiquetas de clase para el conjunto de prueba."
      ]
    },
    {
      "cell_type": "markdown",
      "metadata": {
        "id": "VwCJY54PsIAH"
      },
      "source": [
        "\n",
        "**Funciones Definidas:**\n",
        "1. **`get_class_name(index)`**: Esta función devuelve el nombre de la clase correspondiente a un índice dado.\n",
        "\n",
        "2. **`crear_entrenar(neuronas, activacion, optimizador, epocas)`**: Esta función crea y entrena una RNA con configuraciones específicas, como número de neuronas, función de activación y optimizador. También muestra un resumen del modelo y devuelve el modelo y los resultados del entrenamiento. Cabe destacar que en esta función usamos a la hora de entrenar el modelo un batch size de 50 lo que hace que aumente nuestra precisión ya que entrenamos con paquetes más pequeños de imágenes y , aunque se produce un sobreentrenamiento en algún caso, merece la pena ya que la precisión en el conjunto de prueba resultante es mayor. Además, usamos la función **keras.layers.Flatten()** que es una capa de preprocesamiento en Keras que se utiliza comúnmente al construir modelos de redes neuronales. Su función principal es transformar los datos de entrada en un formato adecuado (aplanado (unidimensional)) para ser procesado por capas posteriores, especialmente cuando se trabaja con datos de imagen o matrices multidimensionales.\n",
        "\n",
        "3. **`evaluar_con_datos_prueba(modelo)`**: Esta función evalúa el modelo con el conjunto de datos de prueba y muestra la pérdida y precisión obtenidas.\n",
        "\n",
        "4. **`predicciones(predictions, numeroimagen)`**: Esta función muestra las probabilidades de pertenecer a cada clase para una imagen dada y su clase estimada.\n",
        "\n",
        "5. **`plot_value_array(predictions, numeroimagen, test_labels)`**: Esta función visualiza las probabilidades predichas para cada clase y resalta la clase real de una imagen.\n",
        "\n",
        "6. **`plot_image(numeroimagen, predictions, test_labels, test_images)`:** Esta función muestra una imagen junto con sus predicciones y etiquetas reales.\n",
        "\n",
        "7. **`mejora_caso_3(neuronas, activacion, optimizador, epocas)`**: Esta función realiza una mejora del modelo de la RNA 3, utilizando una configuración específica, que incluye la función de pérdida 'sparse_categorical_crossentropy'.\n",
        "\n",
        "\n",
        "\n"
      ]
    },
    {
      "cell_type": "code",
      "execution_count": null,
      "metadata": {
        "id": "tMVOLUM-FZc3"
      },
      "outputs": [],
      "source": [
        "# Función para obtener el nombre de la clase (la prenda que es) a partir de un  índice.\n",
        "def get_class_name(index):\n",
        "    clases = [\n",
        "        \"Camiseta/top\",\n",
        "        \"Pantalón\",\n",
        "        \"Sudadera\",\n",
        "        \"Vestido\",\n",
        "        \"Abrigo\",\n",
        "        \"Sandalia\",\n",
        "        \"Camisa\",\n",
        "        \"Zapatilla deportiva\",\n",
        "        \"Bolso\",\n",
        "        \"Bota de tobillo\"\n",
        "    ]\n",
        "    return clases[index]\n",
        "\n",
        "# Función para crear y entrenar la RNA\n",
        "def crear_entrenar(neuronas, activacion, optimizador, epocas):\n",
        "\n",
        "    # Imprimimos la configuración utilizada\n",
        "    print(f\"\\nConfiguración empleada --> Neuronas: {neuronas}, Función de Activación: {activacion}, Optimizador: {optimizador}\\n\")\n",
        "\n",
        "    # Creamos un modelo secuencial\n",
        "    modelo = Sequential()\n",
        "\n",
        "    # Agregamos una capa de aplanamiento de entrada (Flatten)\n",
        "    # La capa Flatten() convierte cada imagen de 28x28 en un vector\n",
        "    # unidimensional de 784 elementos (28x28 = 784). Esto es necesario\n",
        "    # porque las capas Dense (totalmente conectadas) de una red neuronal\n",
        "    # requieren datos de entrada unidimensionales.\n",
        "    modelo.add(Flatten(input_shape=(28, 28)))\n",
        "\n",
        "    modelo.add(Dense(neuronas, activation=activacion))\n",
        "\n",
        "    # Agregamos una capa de salida con activación softmax para la clasificación de 10 clases.\n",
        "    modelo.add(Dense(10, activation='softmax'))\n",
        "\n",
        "    modelo.summary() # Con esta función tendremos un resumen del modelo\n",
        "\n",
        "    # Compilamos el modelo con el optimizador y la función de pérdida especificados\n",
        "    modelo.compile(optimizer=optimizador, loss='categorical_crossentropy', metrics=['accuracy'])\n",
        "\n",
        "    train_labels_oh = to_categorical(train_labels, 10) # Para pasar etiquetas de entrenamiento a codificación one-hot\n",
        "\n",
        "    entrenamiento = modelo.fit(train_images, train_labels_oh, epochs=epocas, batch_size=50)\n",
        "    return modelo, entrenamiento\n",
        "\n",
        "\n",
        "def mejora_caso_3(neuronas, activacion, optimizador, epocas):\n",
        "\n",
        "    print(f\"\\nConfiguración empleada --> Neuronas: {neuronas}, Función de Activación: {activacion}, Optimizador: {optimizador}\\n\")\n",
        "    modelo = Sequential()\n",
        "    modelo.add(Flatten(input_shape=(28, 28)))\n",
        "    modelo.add(Dense(neuronas, activation=activacion))\n",
        "    modelo.add(Dense(10, activation='softmax'))\n",
        "    modelo.summary()\n",
        "    modelo.compile(optimizer=optimizador, loss='sparse_categorical_crossentropy', metrics=['accuracy'])\n",
        "    entrenamiento = modelo.fit(train_images, train_labels, epochs=epocas, batch_size=50)\n",
        "    print(\"\\nEVALUACIÓN DE ESTE CASO CON EL CONJUNTO DE DATOS PRUEBA.\\n\")\n",
        "    test_loss, test_acc = modelo.evaluate(test_images, test_labels)\n",
        "    print(\"Resultados en el conjunto de prueba:\")\n",
        "    print(f'Pérdida en el conjunto de prueba: {test_loss}')\n",
        "    print(f'Precisión en el conjunto de prueba: {test_acc}')\n",
        "    return modelo, entrenamiento\n",
        "\n",
        "\n",
        "# Función para evaluar con datos de prueba\n",
        "def evaluar_con_datos_prueba(modelo):\n",
        "\n",
        "    print(\"\\nEVALUACIÓN DE ESTE CASO CON EL CONJUNTO DE DATOS PRUEBA.\\n\")\n",
        "     # Para pasar etiquetas de test a codificación one-hot.\n",
        "    test_labels_oh = to_categorical(test_labels, 10)\n",
        "\n",
        "    # Evaluamos el modelo utilizando los datos de prueba (test_images) y las etiquetas de prueba codificadas en one-hot (test_labels_oh).\n",
        "    test_loss, test_acc = modelo.evaluate(test_images, test_labels_oh)\n",
        "\n",
        "    # Imprimimos por pantalla:\n",
        "    print(\"Resultados en el conjunto de prueba:\")\n",
        "    print(f'Pérdida en el conjunto de prueba: {test_loss*100}%')\n",
        "    print(f'Precisión en el conjunto de prueba: {test_acc*100}%')\n",
        "\n",
        "# Función para realizar predicciones\n",
        "def predicciones(predictions, numeroimagen):\n",
        "\n",
        "    # Imprimimos una lista con las probabilidades de que una imagen sea una de las 10 clases.\n",
        "    # La suma de estas ha de ser uno , lo que ya se comprobó.\n",
        "    # print(predictions[numeroimagen].shape)\n",
        "    # print(np.sum(predictions[numeroimagen]))\n",
        "    print(\"\\nLA LISTA DE PROBABILIDADES DE SER CADA ELEMENTO ES:\")\n",
        "    print(predictions[numeroimagen])\n",
        "    # La variable indice_prediccion es la probabilidad más alta de la lista.\n",
        "    indice_prediccion = np.argmax(predictions[numeroimagen])\n",
        "    # Llamamos a la funcion get_class_name para que a partir del indice nos diga que prenda es.\n",
        "    clase_prediccion = get_class_name(indice_prediccion)\n",
        "    print(f\"\\nESTE MODELO ESTIMA QUE LA IMAGEN {numeroimagen+1} CORRESPONDE AL ELEMENTO Nº {indice_prediccion}: {clase_prediccion}\")\n",
        "\n",
        "\n",
        "# Función para visualizar y resaltar predicciones en un gráfico de barras.\n",
        "def plot_value_array(predictions, numeroimagen, test_labels):\n",
        "\n",
        "    prediction, test_label = predictions[numeroimagen], test_labels[numeroimagen]\n",
        "\n",
        "    # Configuramos el gráfico\n",
        "    plt.grid(False)\n",
        "    plt.xticks(range(10))\n",
        "\n",
        "    # Creamos el gráfico de barras con las predicciones\n",
        "    thisplot = plt.bar(range(10), prediction, color='#777777')\n",
        "\n",
        "    # Establecemos el rango del eje y de 0 a 1\n",
        "    plt.ylim([0, 1])\n",
        "\n",
        "    # Marcamos la etiqueta predicha en rojo\n",
        "    predicted_label = np.argmax(prediction)\n",
        "    thisplot[predicted_label].set_color('red')\n",
        "\n",
        "    # Marcamos la etiqueta real en azul\n",
        "    thisplot[test_label].set_color('blue')\n",
        "\n",
        "\n",
        "def plot_image(numeroimagen, predictions, test_labels, test_images):\n",
        "\n",
        "    prediction, test_label, test_image = predictions[numeroimagen], test_labels[numeroimagen], test_images[numeroimagen]\n",
        "    plt.grid(False)\n",
        "    plt.xticks([])\n",
        "    plt.yticks([])\n",
        "\n",
        "    # Mostramos la imagen de test.\n",
        "    plt.imshow(test_image, cmap=plt.cm.binary)\n",
        "\n",
        "    indice_prediccion = np.argmax(prediction)\n",
        "    clase_prediccion = get_class_name(indice_prediccion)\n",
        "\n",
        "    clase_testlabel = get_class_name(test_label)\n",
        "\n",
        "    # Comprobamos si la predicción es correcta y establecemos el color de la etiqueta en consecuencia.\n",
        "    if indice_prediccion == test_label:\n",
        "      color = 'blue' # Si la predicción es correcta, la etiqueta se mostrará en azul.\n",
        "    else:\n",
        "      color = 'red' # Si la predicción es incorrecta, la etiqueta se mostrará en rojo.\n",
        "\n",
        "    # Mostramos información de la predicción en la etiqueta\n",
        "    plt.xlabel(\" {} {:2.0f}% ({})\".format(clase_prediccion,\n",
        "                                         100*np.max(prediction),\n",
        "                                         clase_testlabel),\n",
        "                                         color=color)\n",
        "\n",
        "\n"
      ]
    },
    {
      "cell_type": "markdown",
      "metadata": {
        "id": "8ftButxV8Qjp"
      },
      "source": [
        "A continuación , mostraremos cada clase con la que vamos a trabajar, es decir , los tipos de prendas de ropa que se encuentran en el conjunto de datos. Además mostraremos una imagen de cada una."
      ]
    },
    {
      "cell_type": "code",
      "execution_count": null,
      "metadata": {
        "colab": {
          "base_uri": "https://localhost:8080/",
          "height": 441
        },
        "id": "9l7RFWnd7fti",
        "outputId": "20c81b76-aa96-43ae-c883-2f44147d1dfc"
      },
      "outputs": [
        {
          "output_type": "display_data",
          "data": {
            "text/plain": [
              "<Figure size 1500x500 with 10 Axes>"
            ],
            "image/png": "[encoded data removed]"
          },
          "metadata": {}
        }
      ],
      "source": [
        "# Creamos una figura para mostrar las clases y una imagen de cada clase\n",
        "plt.figure(figsize=(15, 5))\n",
        "for i in range(10):\n",
        "    plt.subplot(2, 5, i + 1)\n",
        "    plt.xticks([])\n",
        "    plt.yticks([])\n",
        "    plt.grid(False)\n",
        "    # Buscamos la primera imagen de la clase i en los datos de entrenamiento\n",
        "    index = (train_labels == i).nonzero()[0][0]\n",
        "    plt.imshow(train_images[index], cmap=plt.cm.binary)\n",
        "    name = get_class_name(i)\n",
        "    plt.xlabel(name)\n",
        "\n",
        "# Mostramos la figura\n",
        "plt.show()\n"
      ]
    },
    {
      "cell_type": "markdown",
      "metadata": {
        "id": "CVRtJTjcw8tq"
      },
      "source": [
        "\n",
        "Mostramos a continuación dos variables que consisten en una lista de tuplas llamada \"opciones\" y \"opciones2\".\n",
        "\n",
        "Cada tupla representa una configuración única para entrenar un modelo de red neuronal.\n",
        "\n",
        "La tupla tiene cuatro elementos, que se organizan de la siguiente manera:\n",
        "\n",
        "1. Número de neuronas en la primera capa oculta.\n",
        "\n",
        "2. Función de activación utilizada en la primera capa oculta.\n",
        "3. Optimizador utilizado para el entrenamiento del modelo.\n",
        "4.Número de épocas de entrenamiento."
      ]
    },
    {
      "cell_type": "code",
      "execution_count": null,
      "metadata": {
        "id": "OKiUvcJmFmq4"
      },
      "outputs": [],
      "source": [
        "# Definimos todas las posibles combinaciones de entradas para la RNA\n",
        "\n",
        "# Los ochos casos con sus respectivas configuraciones.\n",
        "opciones = [(10, 'relu', 'sgd', 5),\n",
        "    (10, 'relu', 'rmsprop', 5),\n",
        "    (10, 'sigmoid', 'sgd', 5),\n",
        "    (10, 'sigmoid', 'rmsprop', 5),\n",
        "    (512, 'relu', 'sgd', 5),\n",
        "    (512, 'relu', 'rmsprop', 5),\n",
        "    (512, 'sigmoid', 'sgd', 5),\n",
        "    (512, 'sigmoid', 'rmsprop', 5),\n",
        "     ]\n",
        "\n",
        "# Modificación de los casos 2 y 7 utilizando 25 épocas.\n",
        "opciones2 = [\n",
        "    (10, 'relu', 'rmsprop', 25),\n",
        "    (512, 'sigmoid', 'sgd', 25)\n",
        "]\n"
      ]
    },
    {
      "cell_type": "markdown",
      "metadata": {
        "id": "Mf_0Rq3t-SOE"
      },
      "source": [
        "\n",
        "\n",
        "El bucle for que llama a las funciones tiene como objetivo ejecutar una serie de configuraciones de modelos de redes neuronales y realizar una serie de análisis y evaluaciones en cada iteración. Este bucle itera a través de las configuraciones almacenadas en la lista opciones y realiza las siguientes tareas:\n",
        "\n",
        "1. Imprime un encabezado que indica el cambio de modelo y el número de caso en el que se encuentra.\n",
        "2. Llama a la función crear_entrenar para crear y entrenar un modelo de red neuronal utilizando cada configuración.\n",
        "3.Llama a la función evaluar_con_datos_prueba para evaluar el modelo en el conjunto de datos de prueba.\n",
        "4. Realiza predicciones utilizando el modelo en una imagen específica del conjunto de prueba (en este caso, la 6ª imagen).\n",
        "5. Muestra visualmente las predicciones y probabilidades de cada clase para la imagen en cuestión.\n",
        "6. Realiza un bucle adicional para mostrar las predicciones y probabilidades de las 10 primeras imágenes del conjunto de prueba y diferentes gráficas representativas.\n",
        "\n",
        "\n",
        "Los ejercicios se irán explicando a medida que el código avance y se muestren los resultados correspondientes a cada configuración de modelo. Esto permite analizar y comparar los resultados de cada caso de manera ordenada y comprender cómo diferentes parámetros afectan el rendimiento de la red neuronal en la tarea de clasificación de prendas de vestir."
      ]
    },
    {
      "cell_type": "code",
      "execution_count": null,
      "metadata": {
        "id": "6M3nD6gi6x7L"
      },
      "outputs": [],
      "source": [
        "j = 1 # Para indicar el caso en el que estamos.\n",
        "\n",
        "for i , o in enumerate(opciones):\n",
        "    print(\"\\n\\n=======================================================================\")\n",
        "    print(f\"================== CAMBIO DE MODELO AL CASO Nº{j} =======================\")\n",
        "    print(\"=======================================================================\")\n",
        "    j = j + 1 # Solo para indicar el caso en el que estamos.\n",
        "    neuronas, activacion, optimizador, epocas = o\n",
        "    modelo, entrenamiento = crear_entrenar(neuronas, activacion, optimizador, epocas)\n",
        "    evaluar_con_datos_prueba(modelo)\n",
        "\n",
        "    print(\"\\nCON ESTE MODELO, REALIZAMOS PREDICCIONES SOBRE LA 6ª IMAGEN DEL TEST\")\n",
        "    predictions = modelo.predict(test_images)\n",
        "    predicciones(predictions, 5)\n",
        "    for k in range(0, 10):\n",
        "      print(\"\\n\\n=================================================================\")\n",
        "      print(f\"========================== IMAGEN Nº{k+1} ===========================\")\n",
        "      predicciones(predictions, k)\n",
        "      plt.figure(figsize=(6,3))\n",
        "      plt.subplot(1,2,1)\n",
        "      plot_image(k, predictions, test_labels, test_images)\n",
        "      #plot_image(k, test_labels, test_images)\n",
        "      plt.subplot(1,2,2)\n",
        "      plot_value_array(predictions, k, test_labels)\n",
        "      #plot_value_array (k, test_labels)\n",
        "      plt.show()\n"
      ]
    },
    {
      "cell_type": "markdown",
      "metadata": {
        "id": "eGTYKusm5ocN"
      },
      "source": [
        "**Configuración y Entrenamiento de Modelos de Redes Neuronales**\n",
        "\n",
        "En este primer ejercicio, hemos tratado de llevar a cabo una serie de procesos para configurar y entrenar diferentes modelos de redes neuronales utilizando el conjunto de datos ya mencionado.\n",
        "\n",
        "El objetivo principal es entender como diferentes configuraciones de modelos afectan el rendimiento de la RNA principalmente en términos de precisión.\n",
        "\n",
        "Para esta investigación, hemos definido ocho configuraciones de modelos distintas, y nuestro enfoque inicial ha sido la creación y entrenamiento de estos modelos utilizando la función crear_entrenar(neuronas, activación, optimizador, épocas). Vamos a explicar estos términos antes de continuar:\n",
        "\n",
        "**Neuronas**: En una red neuronal, las neuronas son unidades fundamentales que procesan la información. El número de neuronas en la capa oculta determina la capacidad de la red para aprender patrones complejos en los datos. Más neuronas pueden ayudar a la red a capturar relaciones más sutiles, pero también aumentan el riesgo de sobreajuste.\n",
        "\n",
        "**Función de Activación**: La función de activación se aplica a la salida de cada neurona y determina si la neurona debe activarse o no.\n",
        "En este estudio, utilizamos dos funciones principales: **ReLU** y **Sigmoid**.\n",
        "1. **La función ReLU (Rectified Linear Unit)** es una función de activación comúnmente utilizada en redes neuronales. Su característica principal es que, para cualquier valor de entrada positivo, devuelve el mismo valor, y para cualquier valor de entrada negativo, devuelve cero. En otras palabras, ReLU activa (permite el flujo de información) para valores positivos y desactiva (bloquea el flujo de información) para valores negativos. Esta simplicidad y no linealidad la hacen efectiva en la mayoría de las aplicaciones de redes neuronales, ya que ayuda a superar problemas de desvanecimiento del gradiente y permite que la red aprenda de manera eficiente.\n",
        "![relu.webp](data:image/webp;base64,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)\n",
        "2. **La función Sigmoid**, produce valores de salida en un rango entre cero y uno, lo que la hace adecuada para interpretarse como probabilidades. Cuando se evalúa con valores de entrada negativos, la función se acerca a cero, en cero, la salida es 0.5, y para valores positivos, se acerca a uno. Por lo general, se utiliza en la capa de salida de una red neuronal para clasificar datos en dos categorías. Sin embargo, la función sigmoide ha perdido popularidad en la actualidad debido a que no está centrada, lo que puede afectar el proceso de entrenamiento de la neurona y contribuir al problema del desvanecimiento del gradiente.\n",
        "\n",
        "![sigmoid.png](data:image/png;base64,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)\n",
        "\n",
        "\n",
        "**Optimizador:** El optimizador es un algoritmo que ajusta los pesos de las neuronas durante el entrenamiento para minimizar la función de pérdida. En este estudio, utilizamos dos optimizadores importantes: SGD (Stochastic Gradient Descent) y RMSprop.\n",
        "1. **SGD (Stochastic Gradient Descent)**: simplifica el proceso de cálculo de actualizaciones de parámetros al considerar solo una muestra de datos a la vez. Aunque produce derivadas parciales que no son óptimas en términos de dirección de descenso en la función de error, compensa esta desventaja con la frecuencia de actualizaciones de parámetros, lo que resulta en tiempos de entrenamiento más cortos y puede ayudar al algoritmo a escapar de mínimos locales en la función de error.\n",
        "2. **RMSprop**: Su función principal es adaptar de manera individual la tasa de aprendizaje de cada parámetro del modelo. Lo logra manteniendo un promedio móvil de las raíces cuadradas de los gradientes anteriores. Esto permite a los parámetros con gradientes grandes tener tasas de aprendizaje más pequeñas y a los parámetros con gradientes pequeños tener tasas de aprendizaje más grandes, lo que mejora la convergencia y la estabilidad del entrenamiento. RMSprop es efectivo para tratar problemas de convergencia en algoritmos de descenso de gradiente estocástico (SGD) y es útil en problemas con diferentes escalas de gradientes.\n",
        "\n",
        "**Épocas:** Las épocas representan la cantidad de veces que el conjunto de datos completo se pasa a través de la red durante el proceso de entrenamiento. Más épocas pueden permitir que la red converja y mejore su precisión, pero también aumentan el tiempo de entrenamiento. A nivel de complejidad, hay que encontrar ese punto óptimo de las épocas para encontrar un programa con buena precisión pero que no lleve consigo un gasto excesivo a nivel de complejidad.  \n",
        "\n",
        "\n",
        "Una vez tenemos los datos de cada modelo podemos sacar conclusiones de cada configuración.\n",
        "\n",
        "**Modelo 1: 10 Neuronas, ReLU, SGD, 5 Épocas**\n",
        "\n",
        "- Este primer modelo es relativamente sencillo, con 10 neuronas en la capa oculta y la función de activación ReLU. Esperamos una precisión moderada en el conjunto de prueba debido a la simplicidad de la arquitectura.\n",
        "\n",
        "**Modelo 2: 10 Neuronas, ReLU, RMSprop, 5 Épocas**\n",
        "\n",
        "- El Modelo 2 es similar al primero, pero utiliza el optimizador RMSprop. Este optimizador puede mejorar la convergencia y, en consecuencia, la precisión.\n",
        "\n",
        "\n",
        "**Modelo 3: 10 Neuronas, Sigmoid, SGD, 5 Épocas**\n",
        "\n",
        "- En el tercer modelo, cambiamos la función de activación a Sigmoid. Sin embargo, la función Sigmoid puede ralentizar el entrenamiento y dificultar la convergencia, lo que puede afectar y afecta negativamente la precisión, siendo este el modelo menos preciso de todos.\n",
        "\n",
        "**Modelo 4: 10 Neuronas, Sigmoid, RMSprop, 5 Épocas**\n",
        "\n",
        "- El Modelo 4 es similar al Modelo 3, pero utiliza RMSprop como optimizador. Aunque RMSprop puede mejorar la convergencia, la función Sigmoid podría seguir limitando la precisión.\n",
        "\n",
        "**Modelo 5: 512 Neuronas, ReLU, SGD, 5 Épocas**\n",
        "\n",
        "- Al aumentar significativamente el número de neuronas en la capa oculta, este modelo tiene una mayor capacidad para aprender patrones complejos en los datos. Esto puede traducirse en una mayor precisión, pero también puede aumentar el riesgo de sobreajuste. El objetivo del analista es encontrar el punto óptimo entre el nivel de precicisión  y el gasto a nivel de complejidad\n",
        "\n",
        "**Modelo 6: 512 Neuronas, ReLU, RMSprop, 5 Épocas**\n",
        "\n",
        "- Similar al Modelo 5, pero con el optimizador RMSprop. La combinación de más neuronas y RMSprop lleva a una mayor precisión y una convergencia más rápida.\n",
        "\n",
        "**Modelo 7: 512 Neuronas, Sigmoid, SGD, 5 Épocas**\n",
        "\n",
        "-  Al igual que los Modelos 3 y 4, este modelo utiliza la función sigmoide, lo que podría limitar su precisión en comparación con los modelos que utilizan ReLU.\n",
        "\n",
        "**Modelo 8: 512 Neuronas, Sigmoid, RMSprop, 5 Épocas**\n",
        "\n",
        "- Similar al Modelo 7, pero con RMSprop como optimizador. Aunque el optimizador puede mejorar la convergencia, es posible que la función sigmoide aún tenga un impacto negativo en la precisión.\n",
        "\n",
        "Como conclusión, la precisión de los modelos que entrenamos depende de tres cosas: cómo está hecha la red, qué función se usa para activarla y cómo se ajustan los valores de la red.\n",
        "\n",
        "Algunos modelos, como el 5 y el 6, tienen más neuronas en su parte interna, lo que les ayuda a hacer un mejor trabajo al clasificar las prendas. Pero si los entrenamos con muchas épocas, pueden aprender tan bien los datos de entrenamiento que se confunden cuando ven nuevos datos, lo que se conoce como overfitting .\n",
        "\n",
        "También, el tipo de función que usamos para activar la red importa. La función ReLU ayuda a que los modelos aprendan más rápido y mejor, mientras que la función sigmoide a veces dificulta el aprendizaje.\n",
        "\n",
        "Así que, en resumen, es importante elegir cuidadosamente cómo construir la red y qué configuración usar para obtener un buen rendimiento sin que se confunda cuando se enfrenta a datos nuevos.\n",
        "\n",
        "---\n",
        "\n",
        "**Model.summary()**\n",
        "\n",
        "Explicamos también la salida de cada model.summary() de nuestros diferentes casos.\n",
        "Tenemos dos cantidades distintas de parámetros dependiendo de si son 10 o 512 neuronas en la capa 1.\n",
        "\n",
        "En el caso de que haya 512 neuronas en la capa uno la operación para sacar el número total de parámetros es la siguiente:\n",
        "\n",
        "784 (28*28 píxeles) * 512 neuronas + 512 (sesgo) = 401920.        \n",
        "Después esas 512 neuronas * 10 + 10 (sesgo) = 5130.                            \n",
        "Total = 401920 + 5130  = 407050.\n",
        "\n",
        "En el caso de que haya 10 neuronas en la capa uno la operación para sacar el número total de parámetros es la siguiente:\n",
        "\n",
        "784 * 10 + 10 = 7850.    \n",
        "10 * 10 + 10 = 110.                                                               \n",
        "Total = 7960.                                           \n",
        "\n",
        "Además, explicamos los **ajustes** ( ajuste se refiere al proceso en el cual un modelo de red neuronal se entrena utilizando un conjunto de datos de entrenamiento para aprender a realizar una tarea de clasificación de imágenes de prendas de vestir. Ese ajuste se realiza en un cierto número de épocas ('epocas') y con batch_size para acelerar dicho proceso ) que hace nuestro modelo.\n",
        "Los ajustes que hace nuestro modelo son:\n",
        "\n",
        "60.000 : 128 ( batch_size ) * 5 ( nº de épocas ) = 2345.\n",
        "\n",
        "---\n",
        "\n",
        "\n",
        "**Evaluación de cada uno de los 8 modelos comparando el rendimiento del modelo en\n",
        "el conjunto de datos de prueba.**\n",
        "\n",
        "Para evaluar el desempeño de los 8 modelos que hemos desarrollado, hemos utilizado la función 'evaluar_con_datos_prueba(modelo)'. Esta función nos permite medir tanto la precisión como la pérdida de cada modelo al utilizar el conjunto de datos de prueba. Esta evaluación en el conjunto de prueba es crucial, ya que nos proporciona una medida objetiva de como de bien se comporta el modelo con datos no vistos previamente.\n",
        "\n",
        "Es importante destacar que al comparar el rendimiento de los modelos en el conjunto de prueba, podemos encontrarnos con diferentes resultados en términos de precisión. Algunos modelos pueden mostrar una alta precisión en el conjunto de prueba, lo que sugiere que están haciendo buenas predicciones en datos no vistos. Sin embargo, también es posible que algunos modelos muestren una precisión más baja en el conjunto de prueba.\n",
        "\n",
        "Esta disminución en la precisión puede deberse a varias razones, una de las cuales es el fenómeno del sobreentrenamiento. El sobreentrenamiento ocurre cuando un modelo se ajusta demasiado a los datos de entrenamiento, memorizando los mismos en lugar de aprender patrones generales. Como resultado, el modelo puede tener un alto rendimiento en los datos de entrenamiento, pero su precisión disminuye en datos de prueba.\n",
        "\n",
        "---\n",
        "\n",
        "**Predicciones sobre la 6ª imagen de test (test_images[5])**.\n",
        "\n",
        "Para ello , hemos usado la funcion 'predicciones' , que ha impreso un vector con las probabilidades de que la prenda pertenezca a cada una de las 10 clases que tenemos en el conjunto de datos. De ese vector, hemos sacado el valor mas alto, que es la clase que el modelo estima que la prenda de ropa es.\n",
        "\n",
        "Además, durante el proyecto, tambíen se comprobó que la suma de todas las probabilidades del vector sea 1, lo que nos ayudó a comprobar que estábamos realizando bien la función.\n",
        "\n",
        "Es importante destacar que, aunque con distinta precisión, todos los modelos llegan a la misma conclusión cierta, que la imagen número 6 corresponde a la clase pantalón.\n",
        "\n",
        "---\n",
        "\n",
        "**Predicción, de las 10 primeras\n",
        "imágenes del conjunto de test, para cada uno de los 8 casos.**\n",
        "\n",
        "\n",
        "Después de evaluar y graficar las predicciones de las diez primeras imágenes con cada uno de los modelos, podemos reforzar algunas conclusiones y obtener más información sobre el rendimiento de estos modelos. Aquí hay algunas observaciones clave:\n",
        "\n",
        "1. **Comparación de Rendimiento de los Modelos**: En el ejercicio 1, ya habíamos comparado el rendimiento de los diferentes modelos. Ahora, al analizar las predicciones en las imágenes de prueba, podemos confirmar esas conclusiones y ver cómo se comportan en situaciones reales. Es posible que algunos modelos funcionen mejor en ciertas categorías de prendas, lo que puede influir en la elección del modelo adecuado para tareas específicas.\n",
        "\n",
        "2. **Dificultad en la Predicción de Prendas**: Es evidente que algunas prendas, como camisetas y pantalones, son más fáciles de predecir, ya que tienden a ser reconocidas con mayor precisión por la mayoría de los modelos. Esto puede deberse a que estas categorías de prendas tienen características distintivas que los modelos pueden identificar de manera más efectiva.\n",
        "\n",
        "3. **Clasificar Sandalias**: Por otro lado, se observa que las sandalias son prendas difíciles de predecir para los modelos. Esto podría indicar que las sandalias tienen características menos distintivas o que su variabilidad es mayor, lo que dificulta su clasificación precisa.\n",
        "\n",
        "\n",
        "---\n",
        "\n",
        "**A continuación, analizamos e interpretamos los resultados del caso 2 y el 7 frente a sus originales tras haber multiplicado por 5 las épocas de entrenamiento (25)**.\n",
        "\n"
      ]
    },
    {
      "cell_type": "code",
      "execution_count": null,
      "metadata": {
        "colab": {
          "background_save": true
        },
        "id": "_lYzHIY6GFSe"
      },
      "outputs": [],
      "source": [
        "j = 2\n",
        "for i, o in enumerate(opciones2):\n",
        "    print(\"\\n\\n=======================================================================\")\n",
        "    print(f\"==================== VARIACIÓN MODELO CASO Nº{j} ========================\")\n",
        "    print(\"=======================================================================\")\n",
        "    neuronas, activacion, optimizador, epocas = o\n",
        "    modelo, entrenamiento = crear_entrenar(neuronas, activacion, optimizador, epocas)\n",
        "    evaluar_con_datos_prueba(modelo)\n",
        "    j = j + 5"
      ]
    },
    {
      "cell_type": "markdown",
      "metadata": {
        "id": "2mZHcAR_t8T_"
      },
      "source": [
        "\n",
        "\n",
        "\n",
        "Aumentar el número de épocas de entrenamiento ha llevado a una mejora en la capacidad del modelo para hacer predicciones. Esto se refleja en la disminución de la pérdida y el aumento de la precisión tanto en el conjunto de entrenamiento como en el de prueba. Sin embargo, es importante tener en cuenta que un entrenamiento excesivamente largo puede llevar a un sobreajuste del modelo en los datos de entrenamiento, lo que significa que el modelo podría tener un rendimiento deficiente en datos no vistos. Por lo tanto, encontrar un equilibrio en el número de épocas es esencial en el entrenamiento de redes neuronales.\n",
        "\n",
        "---"
      ]
    },
    {
      "cell_type": "code",
      "execution_count": null,
      "metadata": {
        "id": "7J47IUt2IKCU"
      },
      "outputs": [],
      "source": [
        "print(\"\\n\\n=======================================================================\")\n",
        "print(\"==================== MEJORA MODELO CASO Nº 3 ==========================\")\n",
        "print(\"=======================================================================\")\n",
        "mejora_caso_3(10, 'sigmoid', 'adam', 5)"
      ]
    },
    {
      "cell_type": "markdown",
      "metadata": {
        "id": "sExT5ZSWv02-"
      },
      "source": [
        "\n",
        "---\n",
        "***CONCLUSIONES Y APRENDIZAJES***\n",
        "\n",
        "La elección de la configuración del modelo, incluyendo el número de neuronas, la función de activación y el optimizador, afecta significativamente el rendimiento de las redes neuronales.\n",
        "\n",
        "La función de activación ReLU tiende a ofrecer un mejor rendimiento en términos de velocidad de convergencia y precisión en comparación con la función Sigmoid.\n",
        "\n",
        "Los optimizadores, como RMSprop, pueden mejorar la convergencia y el rendimiento, dependiendo de la configuración del modelo.\n",
        "\n",
        "La complejidad del modelo, con un mayor número de neuronas, puede aumentar la precisión, pero es importante evitar el sobreajuste.\n",
        "\n",
        "Es crucial encontrar un equilibrio adecuado entre precisión y generalización en las configuraciones más complejas, caracterizadas por un mayor número de neuronas en la capa oculta. Si bien estas configuraciones pueden lograr una alta precisión en los datos de entrenamiento, es esencial evitar el riesgo de sobreajuste, donde el modelo se adapta en exceso a esos datos y no generaliza de manera efectiva a nuevas situaciones."
      ]
    }
  ],
  "metadata": {
    "colab": {
      "provenance": [],
      "include_colab_link": true
    },
    "kernelspec": {
      "display_name": "Python 3",
      "name": "python3"
    },
    "language_info": {
      "name": "python"
    }
  },
  "nbformat": 4,
  "nbformat_minor": 0
}